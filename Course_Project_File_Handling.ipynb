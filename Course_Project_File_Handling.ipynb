{
 "cells": [
  {
   "cell_type": "markdown",
   "id": "57e7b67c-cbac-4980-a9d4-6422d4eeebb4",
   "metadata": {},
   "source": [
    "# Stage 1 - Set up project and load data\n",
    "## Task 1 - Import all neccesary packages"
   ]
  },
  {
   "cell_type": "code",
   "execution_count": 9,
   "id": "4ab0e961-b40b-431d-b4b2-3b8df8a0dd75",
   "metadata": {},
   "outputs": [],
   "source": [
    "# Import package for navigating through files stored on your device/on Google Colaboratory\n",
    "import os\n",
    "# Import package for working with JSON files\n",
    "import json\n",
    "# Import package for working with CSV files\n",
    "import csv"
   ]
  },
  {
   "cell_type": "markdown",
   "id": "033ef383-6e5e-4ea3-9691-75df653d6a32",
   "metadata": {},
   "source": [
    "## Task 2 - Load the data"
   ]
  },
  {
   "cell_type": "code",
   "execution_count": 10,
   "id": "6eeeff2e-6ed5-499c-89a4-0547df1a3847",
   "metadata": {},
   "outputs": [],
   "source": [
    "def load_data(main_folder):\n",
    "    sales_data = {}\n",
    "    product_details = {}\n",
    "    product_descriptions = {}\n",
    "\n",
    "    # Load sales data from CSV\n",
    "    csv_path = os.path.join(main_folder, \"sales_data.csv\")\n",
    "    with open(csv_path, \"r\") as file:\n",
    "        reader = csv.reader(file)\n",
    "        header = next(reader)\n",
    "        for row in reader:\n",
    "            sales_data[row[0]] = list(map(int, row[1:]))\n",
    "\n",
    "    # Load product details from JSON files\n",
    "    product_details_folder = os.path.join(main_folder, \"product_details\")\n",
    "    for filename in os.listdir(product_details_folder):\n",
    "        if filename.endswith(\".json\"):\n",
    "            sku = filename.split(\"_\")[1].split(\".\")[0]\n",
    "            with open(os.path.join(product_details_folder, filename), \"r\") as file:\n",
    "                product_details[sku] = json.load(file)\n",
    "\n",
    "    # Load product descriptions from TXT files\n",
    "    product_descriptions_folder = os.path.join(main_folder, \"product_descriptions\")\n",
    "    for filename in os.listdir(product_descriptions_folder):\n",
    "        if filename.endswith(\".txt\"):\n",
    "            sku = filename.split(\"_\")[1].split(\".\")[0]\n",
    "            with open(os.path.join(product_descriptions_folder, filename), \"r\") as file:\n",
    "                product_descriptions[sku] = file.read().strip()\n",
    "\n",
    "    return sales_data, product_details, product_descriptions"
   ]
  },
  {
   "cell_type": "markdown",
   "id": "651bbfab-14e3-4090-bf22-22d3764753a6",
   "metadata": {},
   "source": [
    "# Stage 2 - Update Data\n",
    "## Task 3 - Update Sales data"
   ]
  },
  {
   "cell_type": "code",
   "execution_count": 11,
   "id": "14acc987-3dcc-424c-a30b-d3d7aae9f928",
   "metadata": {},
   "outputs": [],
   "source": [
    "# Updating sales data\n",
    "def update_sales_data(sales_data, sku, new_sales):\n",
    "    sales_data[sku] = new_sales"
   ]
  },
  {
   "cell_type": "markdown",
   "id": "2b8fdcac-2a50-4e33-bb61-a3f863c83445",
   "metadata": {},
   "source": [
    "## Task 4 - Update product details"
   ]
  },
  {
   "cell_type": "code",
   "execution_count": 12,
   "id": "3464ff33-14ba-4015-af00-2f99638d1f92",
   "metadata": {},
   "outputs": [],
   "source": [
    "# Updating product details\n",
    "def update_product_details(product_details, sku, details):\n",
    "    product_details[sku] = details"
   ]
  },
  {
   "cell_type": "markdown",
   "id": "f16b172a-fffc-474a-addc-88d92bb57ede",
   "metadata": {},
   "source": [
    "## Task 5 - Update product descriptions"
   ]
  },
  {
   "cell_type": "code",
   "execution_count": 13,
   "id": "7ee2e0b0-1795-4e41-a364-6d6992892936",
   "metadata": {},
   "outputs": [],
   "source": [
    "# Updating product descriptions\n",
    "def update_product_description(product_descriptions, sku, description):\n",
    "    product_descriptions[sku] = description"
   ]
  },
  {
   "cell_type": "markdown",
   "id": "27b458b8-72af-4cc3-90c7-8867fe5c6873",
   "metadata": {},
   "source": [
    "## Task 6 - Update function"
   ]
  },
  {
   "cell_type": "code",
   "execution_count": 14,
   "id": "c9aaf40a-206d-4a68-b1cd-1cd9f72dce77",
   "metadata": {},
   "outputs": [],
   "source": [
    "# update function to get input \n",
    "def update(sales_data, product_details, product_descriptions):\n",
    "    sku = input(\"Enter SKU (13 characters): \").strip()\n",
    "    if len(sku) != 13:\n",
    "        print(\"Error: SKU must be exactly 13 characters long.\")\n",
    "        return\n",
    "\n",
    "    try:\n",
    "        new_sales = list(map(int, input(\"Enter sales data for 14 days (space-separated): \").split()))\n",
    "        if len(new_sales) != 14:\n",
    "            raise ValueError\n",
    "    except ValueError:\n",
    "        print(\"Error: Sales data must be 14 whole numbers.\")\n",
    "        return\n",
    "\n",
    "    name = input(\"Enter product name: \")\n",
    "    brand = input(\"Enter brand: \")\n",
    "    model = input(\"Enter model: \")\n",
    "    specifications = input(\"Enter specifications: \")\n",
    "    price = input(\"Enter price: \")\n",
    "    availability = input(\"Enter availability: \")\n",
    "\n",
    "    description = input(\"Enter product description: \")\n",
    "\n",
    "    # Update dictionaries\n",
    "    update_sales_data(sales_data, sku, new_sales)\n",
    "    update_product_details(product_details, sku, {\n",
    "        \"name\": name,\n",
    "        \"brand\": brand,\n",
    "        \"model\": model,\n",
    "        \"specifications\": specifications,\n",
    "        \"price\": price,\n",
    "        \"availability\": availability,\n",
    "    })\n",
    "    update_product_description(product_descriptions, sku, description)\n",
    "\n",
    "    print(\"Product successfully updated!\")\n",
    "    return product_details, sales_data, product_descriptions"
   ]
  },
  {
   "cell_type": "markdown",
   "id": "44cb2523-2b28-4f23-a65f-ad512d7a1944",
   "metadata": {},
   "source": [
    "#  Stage 3 - Save data to disk\n",
    "## Task 7 - Save data to disk"
   ]
  },
  {
   "cell_type": "code",
   "execution_count": 15,
   "id": "f5032a0e-becf-4c5c-9d36-4d3a1d9749a0",
   "metadata": {},
   "outputs": [],
   "source": [
    "def dump_data(sales_data, product_details, product_descriptions, main_folder):\n",
    "    # Ensure main folder exists\n",
    "    os.makedirs(main_folder, exist_ok=True)\n",
    "\n",
    "    # Dump sales data into CSV\n",
    "    csv_path = os.path.join(main_folder, \"sales_data.csv\")\n",
    "    with open(csv_path, \"w\", newline=\"\") as file:\n",
    "        writer = csv.writer(file)\n",
    "        writer.writerow([\"Product_SKU\"] + [f\"Day{i}\" for i in range(1, 15)])\n",
    "        for sku, sales in sales_data.items():\n",
    "            writer.writerow([sku] + sales)\n",
    "\n",
    "    # Dump product details into JSON\n",
    "    product_details_folder = os.path.join(main_folder, \"product_details\")\n",
    "    os.makedirs(product_details_folder, exist_ok=True)\n",
    "    for sku, details in product_details.items():\n",
    "        json_path = os.path.join(product_details_folder, f\"details_{sku}.json\")\n",
    "        with open(json_path, \"w\") as file:\n",
    "            json.dump(details, file, indent=4)\n",
    "\n",
    "    # Dump product descriptions into TXT\n",
    "    product_descriptions_folder = os.path.join(main_folder, \"product_descriptions\")\n",
    "    os.makedirs(product_descriptions_folder, exist_ok=True)\n",
    "    for sku, description in product_descriptions.items():\n",
    "        txt_path = os.path.join(product_descriptions_folder, f\"description_{sku}.txt\")\n",
    "        with open(txt_path, \"w\") as file:\n",
    "            file.write(description)"
   ]
  },
  {
   "cell_type": "code",
   "execution_count": null,
   "id": "d0e4592a-1d37-4a61-a8e2-4a0df2dc520b",
   "metadata": {},
   "outputs": [],
   "source": [
    "main_folder = \"mainfolder\"\n",
    "# loading data\n",
    "sales_data, product_details, product_descriptions = load_data(main_folder)\n",
    "\n",
    "# Updating dictionaries\n",
    "update(sales_data, product_details, product_descriptions)\n",
    "\n",
    "# Save changes to disk\n",
    "dump_data(sales_data, product_details, product_descriptions, main_folder)"
   ]
  },
  {
   "cell_type": "code",
   "execution_count": null,
   "id": "4a3d5611-6fa1-4874-a5f6-026c5614dfec",
   "metadata": {},
   "outputs": [],
   "source": []
  }
 ],
 "metadata": {
  "kernelspec": {
   "display_name": "Python 3 (ipykernel)",
   "language": "python",
   "name": "python3"
  },
  "language_info": {
   "codemirror_mode": {
    "name": "ipython",
    "version": 3
   },
   "file_extension": ".py",
   "mimetype": "text/x-python",
   "name": "python",
   "nbconvert_exporter": "python",
   "pygments_lexer": "ipython3",
   "version": "3.11.7"
  }
 },
 "nbformat": 4,
 "nbformat_minor": 5
}
